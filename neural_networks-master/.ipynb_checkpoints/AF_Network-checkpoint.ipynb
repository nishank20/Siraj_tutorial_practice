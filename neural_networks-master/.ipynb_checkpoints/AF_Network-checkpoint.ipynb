{
 "cells": [
  {
   "cell_type": "code",
   "execution_count": 1,
   "metadata": {},
   "outputs": [],
   "source": [
    "#dependencies (matrix math) \n",
    "import numpy as np"
   ]
  },
  {
   "cell_type": "code",
   "execution_count": 2,
   "metadata": {},
   "outputs": [
    {
     "name": "stdout",
     "output_type": "stream",
     "text": [
      "[[0 0 1]\n",
      " [0 1 1]\n",
      " [1 0 1]\n",
      " [1 1 1]]\n",
      "[[0]\n",
      " [1]\n",
      " [1]\n",
      " [0]]\n"
     ]
    }
   ],
   "source": [
    "#input data\n",
    "input_data = np.array([[0,0,1],\n",
    "            [0,1,1],\n",
    "            [1,0,1],\n",
    "            [1,1,1]])\n",
    "                \n",
    "output_labels = np.array([[0],\n",
    "            [1],\n",
    "            [1],\n",
    "            [0]])\n",
    "\n",
    "print(input_data)\n",
    "print(output_labels)"
   ]
  },
  {
   "cell_type": "code",
   "execution_count": 3,
   "metadata": {},
   "outputs": [],
   "source": [
    "# sigmoid function\n",
    "def activate(x,deriv=False):\n",
    "    if(deriv==True):\n",
    "        return x*(1-x)\n",
    "    return 1/(1+np.exp(-x))"
   ]
  },
  {
   "cell_type": "code",
   "execution_count": 4,
   "metadata": {},
   "outputs": [
    {
     "name": "stdout",
     "output_type": "stream",
     "text": [
      "[[-0.27356015  0.48955984  0.84887999  0.86808389]\n",
      " [-0.51776402 -0.51703634  0.54625677 -0.04532988]\n",
      " [-0.94893276  0.11946873 -0.04848155 -0.17648796]]\n",
      "[[ 0.62395125]\n",
      " [ 0.10731679]\n",
      " [ 0.14311214]\n",
      " [-0.16788406]]\n"
     ]
    }
   ],
   "source": [
    "# 2 weight values\n",
    "synaptic_weight_0 = 2*np.random.random((3,4)) - 1\n",
    "synaptic_weight_1 = 2*np.random.random((4,1)) - 1\n",
    "\n",
    "print(synaptic_weight_0)\n",
    "print(synaptic_weight_1)"
   ]
  },
  {
   "cell_type": "code",
   "execution_count": 5,
   "metadata": {},
   "outputs": [
    {
     "name": "stdout",
     "output_type": "stream",
     "text": [
      "Error:0.5002522298241455\n",
      "Error:0.3780102633424074\n",
      "Error:0.3770698679145633\n",
      "Error:0.37666833412318645\n",
      "Error:0.37643343367423693\n",
      "Error:0.37627506432533103\n"
     ]
    }
   ],
   "source": [
    "for j in range(60000):\n",
    "\n",
    "\t# Forward propagate through layers 0, 1, and 2\n",
    "    layer0 = input_data\n",
    "    layer1 = activate(np.dot(layer0,synaptic_weight_0))\n",
    "    layer2 = activate(np.dot(layer1,synaptic_weight_1))\n",
    "\n",
    "    #calculate error for layer 2\n",
    "    layer2_error = output_labels - layer2\n",
    "    \n",
    "    if (j% 10000) == 0:\n",
    "        print (\"Error:\" + str(np.mean(np.abs(layer2_error))))\n",
    "        \n",
    "    #Use it to compute the gradient\n",
    "    layer2_gradient = layer2_error*activate(layer2,deriv=True)\n",
    "\n",
    "    #calculate error for layer 1\n",
    "    layer1_error = layer2_gradient.dot(synaptic_weight_1.T)\n",
    "    \n",
    "    #Use it to compute its gradient\n",
    "    layer1_gradient = layer2_error * activate(layer1,deriv=True)\n",
    "    \n",
    "    #update the weights using the gradients\n",
    "    synaptic_weight_1 += layer1.T.dot(layer2_gradient)\n",
    "    synaptic_weight_0 += layer0.T.dot(layer1_gradient)\n"
   ]
  },
  {
   "cell_type": "code",
   "execution_count": 10,
   "metadata": {},
   "outputs": [
    {
     "name": "stdout",
     "output_type": "stream",
     "text": [
      "[0.98352525]\n"
     ]
    }
   ],
   "source": [
    "#testin\n",
    "from numpy import *\n",
    "print(activate(np.dot(array([0, 1, 1, 1]), synaptic_weight_1)))"
   ]
  },
  {
   "cell_type": "code",
   "execution_count": null,
   "metadata": {},
   "outputs": [],
   "source": []
  }
 ],
 "metadata": {
  "kernelspec": {
   "display_name": "Python 3",
   "language": "python",
   "name": "python3"
  },
  "language_info": {
   "codemirror_mode": {
    "name": "ipython",
    "version": 3
   },
   "file_extension": ".py",
   "mimetype": "text/x-python",
   "name": "python",
   "nbconvert_exporter": "python",
   "pygments_lexer": "ipython3",
   "version": "3.6.7"
  }
 },
 "nbformat": 4,
 "nbformat_minor": 2
}
