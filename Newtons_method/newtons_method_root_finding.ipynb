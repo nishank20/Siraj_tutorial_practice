{
 "cells": [
  {
   "cell_type": "code",
   "execution_count": 11,
   "metadata": {},
   "outputs": [],
   "source": [
    "from scipy.optimize import newton\n",
    "from sklearn.utils.testing import assert_almost_equal\n"
   ]
  },
  {
   "cell_type": "code",
   "execution_count": 12,
   "metadata": {},
   "outputs": [],
   "source": [
    "\n",
    "def f(x):\n",
    "    return 6*x**5-5*x**4-4*x**3+3*x**2\n"
   ]
  },
  {
   "cell_type": "code",
   "execution_count": 13,
   "metadata": {},
   "outputs": [],
   "source": [
    "def df(x):\n",
    "    return 30*x**4-20*x**3-12*x**2+6*x\n",
    "\n"
   ]
  },
  {
   "cell_type": "code",
   "execution_count": 14,
   "metadata": {},
   "outputs": [],
   "source": [
    "def dx(f, x):\n",
    "    return abs(0-f(x))\n",
    "    \n"
   ]
  },
  {
   "cell_type": "code",
   "execution_count": 15,
   "metadata": {},
   "outputs": [],
   "source": [
    "def newtons_method(f, df, x0, e, print_res=False):\n",
    "    delta = dx(f, x0)\n",
    "    while delta > e:\n",
    "        x0 = x0 - f(x0)/df(x0)\n",
    "        delta = dx(f, x0)\n",
    "    if print_res:\n",
    "        print ('Root is at: ', x0)\n",
    "        print ('f(x) at root is: ', f(x0))\n",
    "    return x0\n",
    "\n"
   ]
  },
  {
   "cell_type": "code",
   "execution_count": 16,
   "metadata": {},
   "outputs": [],
   "source": [
    "def test_with_scipy(f, df, x0s, e):\n",
    "    for x0 in x0s:\n",
    "        my_newton = newtons_method(f, df, x0, e)\n",
    "        scipy_newton = newton(f, x0, df, tol=e)\n",
    "        assert_almost_equal(my_newton, scipy_newton, decimal=5)\n",
    "        print ('Tests passed.')\n"
   ]
  },
  {
   "cell_type": "code",
   "execution_count": 17,
   "metadata": {},
   "outputs": [
    {
     "name": "stdout",
     "output_type": "stream",
     "text": [
      "Tests passed.\n",
      "Tests passed.\n",
      "Tests passed.\n",
      "Root is at:  0\n",
      "f(x) at root is:  0\n",
      "Root is at:  0.6286669787778999\n",
      "f(x) at root is:  -1.8043344596208044e-12\n",
      "Root is at:  1\n",
      "f(x) at root is:  0\n"
     ]
    }
   ],
   "source": [
    "\n",
    "if __name__ == '__main__':\n",
    "    # run test\n",
    "    x0s = [0, .5, 1]    \n",
    "    test_with_scipy(f, df, x0s, 1e-5)\n",
    "        \n",
    "    for x0 in x0s:\n",
    "        newtons_method(f, df, x0, 1e-10, True)"
   ]
  },
  {
   "cell_type": "code",
   "execution_count": null,
   "metadata": {},
   "outputs": [],
   "source": []
  }
 ],
 "metadata": {
  "kernelspec": {
   "display_name": "Python 3",
   "language": "python",
   "name": "python3"
  },
  "language_info": {
   "codemirror_mode": {
    "name": "ipython",
    "version": 3
   },
   "file_extension": ".py",
   "mimetype": "text/x-python",
   "name": "python",
   "nbconvert_exporter": "python",
   "pygments_lexer": "ipython3",
   "version": "3.6.7"
  }
 },
 "nbformat": 4,
 "nbformat_minor": 2
}
